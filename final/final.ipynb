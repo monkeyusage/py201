{
 "cells": [
  {
   "cell_type": "markdown",
   "metadata": {},
   "source": [
    "# Python Programming final session\n",
    "\n",
    "### In this final presentation you will use the skills you have learned in class and online to solve programming problems and analyze data.\n",
    "\n",
    "### The scoring will be based on global code quality. First and foremost your code needs to be correct, fast, readable and reusable.\n",
    "\n",
    "Code quality is judged with your code being:\n",
    "\n",
    "    - correct\n",
    "    - time and memory efficient\n",
    "    - readable\n",
    "\n",
    "*Evaluating* your code I will review the code, refactor it. *You will then present your work in the final session and the class will critique it in order to help you improve.*"
   ]
  },
  {
   "cell_type": "code",
   "execution_count": null,
   "metadata": {},
   "outputs": [],
   "source": [
    "# imports go here"
   ]
  },
  {
   "cell_type": "markdown",
   "metadata": {},
   "source": [
    "### The goal: Analyse your dataset, make your code work, be curious and train a simple model\n",
    "\n",
    "Your dataset will be sent and agreed upon in class.\n",
    "\n",
    "*Your first task is to read your data using pure python*"
   ]
  },
  {
   "cell_type": "code",
   "execution_count": 1,
   "metadata": {},
   "outputs": [],
   "source": [
    "# use the open function, use string methods, loops and functions\n"
   ]
  },
  {
   "cell_type": "markdown",
   "metadata": {},
   "source": [
    "*Your next task is to think of a way to categorize your target data if it is not already and perform the transformation if you need to*\n",
    "\n",
    "*If you don't have to perform any operation to make the data categorical please indicate which variable you're chosing anyway* "
   ]
  },
  {
   "cell_type": "code",
   "execution_count": null,
   "metadata": {},
   "outputs": [],
   "source": []
  },
  {
   "cell_type": "markdown",
   "metadata": {},
   "source": [
    "*Your second task is to perform basic statistics on the data you retrieved using pure python*\n",
    "\n",
    "- mean (average)\n",
    "- counts (of categories) / occurences\n",
    "- correlation between two variables\n",
    "- mean between groups"
   ]
  },
  {
   "cell_type": "code",
   "execution_count": null,
   "metadata": {},
   "outputs": [],
   "source": []
  },
  {
   "cell_type": "markdown",
   "metadata": {},
   "source": [
    "*Your third task is to perform both former tasks using pandas and numpy* "
   ]
  },
  {
   "cell_type": "code",
   "execution_count": null,
   "metadata": {},
   "outputs": [],
   "source": []
  },
  {
   "cell_type": "markdown",
   "metadata": {},
   "source": [
    "*Now perform the joins if you need to*"
   ]
  },
  {
   "cell_type": "code",
   "execution_count": null,
   "metadata": {},
   "outputs": [],
   "source": []
  },
  {
   "cell_type": "markdown",
   "metadata": {},
   "source": [
    "*Now using the matplotlib / pandas skills you got from datacamp create simple plots that have value analysing the data*\n",
    "\n",
    "- histograms\n",
    "- bar plots\n",
    "- line plots\n",
    "- correlation matrices\n",
    "- count matrices"
   ]
  },
  {
   "cell_type": "code",
   "execution_count": null,
   "metadata": {},
   "outputs": [],
   "source": []
  },
  {
   "cell_type": "markdown",
   "metadata": {},
   "source": [
    "*Your last task is to create a model using sci-kit learn, your model should be able to predict the category with some level of accuracy*\n",
    "\n",
    "*Bonus points if you train your model using handcrafted features and tweak the hyper parameters to optimize it*"
   ]
  },
  {
   "cell_type": "code",
   "execution_count": null,
   "metadata": {},
   "outputs": [],
   "source": []
  },
  {
   "cell_type": "markdown",
   "metadata": {},
   "source": []
  }
 ],
 "metadata": {
  "interpreter": {
   "hash": "68376282b2a9d375bea26456f4b7cb59a82756d8cc7f06e19e80720e7f156c3f"
  },
  "kernelspec": {
   "display_name": "Python 3.10.0 64-bit ('venv': venv)",
   "language": "python",
   "name": "python3"
  },
  "language_info": {
   "codemirror_mode": {
    "name": "ipython",
    "version": 3
   },
   "file_extension": ".py",
   "mimetype": "text/x-python",
   "name": "python",
   "nbconvert_exporter": "python",
   "pygments_lexer": "ipython3",
   "version": "3.10.0"
  },
  "orig_nbformat": 4
 },
 "nbformat": 4,
 "nbformat_minor": 2
}
