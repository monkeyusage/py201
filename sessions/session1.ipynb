{
 "cells": [
  {
   "cell_type": "code",
   "execution_count": null,
   "metadata": {},
   "outputs": [],
   "source": [
    "from __future__ import annotations\n",
    "from solutions import * # this is bad pratice do not do this unless you want to hide stuff"
   ]
  },
  {
   "cell_type": "markdown",
   "metadata": {},
   "source": [
    "### Implement a function to read the data from rain.csv"
   ]
  },
  {
   "cell_type": "code",
   "execution_count": null,
   "metadata": {},
   "outputs": [],
   "source": [
    "def read_rain_prcp() -> list[float]: # this is a typing annotation super usefull for clarity\n",
    "    # the rain file path is ../data/rain.csv\n",
    "    # read the second column in the rain file\n",
    "    # use list, string manipulation, indexing, type conversion in some loop to get the data\n",
    "    # replace NA with 0\n",
    "    ...\n",
    "    return ...\n"
   ]
  },
  {
   "cell_type": "code",
   "execution_count": null,
   "metadata": {},
   "outputs": [],
   "source": [
    "\n",
    "assert all(prcp == solution for prcp, solution in zip(read_rain_prcp(),read_rain_prcp_sol()))"
   ]
  },
  {
   "cell_type": "markdown",
   "metadata": {},
   "source": [
    "### Implement a function to extract the average precipitation for all the data we got from the file"
   ]
  },
  {
   "cell_type": "code",
   "execution_count": null,
   "metadata": {},
   "outputs": [],
   "source": [
    "prcp = read_rain_prcp()\n",
    "\n",
    "def mean_py(nums: list[float]) -> float:\n",
    "    # use builtins inside this function\n",
    "    m = ...\n",
    "    return m\n",
    "\n",
    "def naive_mean(nums: list[float]) -> float:\n",
    "    # only use basic language constructs like loops and additions, divisions\n",
    "    total = ...\n",
    "    counter = ...\n",
    "    ...\n",
    "    return total / counter\n"
   ]
  },
  {
   "cell_type": "code",
   "execution_count": null,
   "metadata": {},
   "outputs": [],
   "source": [
    "assert mean_py(prcp) == mean_py_sol(prcp)\n",
    "assert naive_mean(prcp) == naive_mean_sol(prcp)"
   ]
  },
  {
   "cell_type": "code",
   "execution_count": null,
   "metadata": {},
   "outputs": [],
   "source": [
    "%%timeit\n",
    "mean_py(prcp)"
   ]
  },
  {
   "cell_type": "code",
   "execution_count": null,
   "metadata": {},
   "outputs": [],
   "source": [
    "%%timeit\n",
    "naive_mean(prcp)"
   ]
  },
  {
   "cell_type": "code",
   "execution_count": null,
   "metadata": {},
   "outputs": [],
   "source": [
    "from statistics import mean"
   ]
  },
  {
   "cell_type": "code",
   "execution_count": null,
   "metadata": {},
   "outputs": [],
   "source": [
    "%%timeit\n",
    "mean(prcp)"
   ]
  },
  {
   "cell_type": "code",
   "execution_count": null,
   "metadata": {},
   "outputs": [],
   "source": [
    "import numpy as np\n",
    "arr = np.array(prcp)"
   ]
  },
  {
   "cell_type": "code",
   "execution_count": null,
   "metadata": {},
   "outputs": [],
   "source": [
    "%%timeit\n",
    "np.mean(arr)"
   ]
  },
  {
   "cell_type": "code",
   "execution_count": null,
   "metadata": {},
   "outputs": [],
   "source": [
    "%%timeit\n",
    "np.mean(prcp)"
   ]
  },
  {
   "cell_type": "code",
   "execution_count": null,
   "metadata": {},
   "outputs": [],
   "source": [
    "from dis import dis\n",
    "dis(naive_mean)"
   ]
  },
  {
   "cell_type": "code",
   "execution_count": null,
   "metadata": {},
   "outputs": [],
   "source": [
    "dis(mean_py)"
   ]
  },
  {
   "cell_type": "markdown",
   "metadata": {},
   "source": [
    "### Challenge for advanced users => create a timer function that times code being passed to it\n",
    "\n",
    "*remember: the function should be able to call another function with about any number of arguments, it should return the results of the function being passed to it*\n",
    "\n",
    "`hint` : look up *args, **kwargs and decorators"
   ]
  },
  {
   "cell_type": "code",
   "execution_count": null,
   "metadata": {},
   "outputs": [],
   "source": [
    "from functools import wraps\n",
    "from time import perf_counter\n",
    "from time import sleep\n",
    "\n",
    "def timer(func):\n",
    "    ...\n",
    "    return func"
   ]
  },
  {
   "cell_type": "code",
   "execution_count": null,
   "metadata": {},
   "outputs": [],
   "source": [
    "timer(wait, 5, None)"
   ]
  },
  {
   "cell_type": "markdown",
   "metadata": {},
   "source": [
    "## Numpy\n",
    "\n",
    "    - what it do\n",
    "    - how it be\n"
   ]
  },
  {
   "cell_type": "code",
   "execution_count": null,
   "metadata": {},
   "outputs": [],
   "source": [
    "arr = np.array([i for i in range(25)], dtype=np.uint8)"
   ]
  },
  {
   "cell_type": "code",
   "execution_count": null,
   "metadata": {},
   "outputs": [],
   "source": [
    "print(arr.shape)\n",
    "print(arr.ndim)\n",
    "print(arr.sum())\n",
    "print(arr.dtype)"
   ]
  },
  {
   "cell_type": "code",
   "execution_count": null,
   "metadata": {},
   "outputs": [],
   "source": [
    "print(np.random)\n",
    "print(np.linalg)\n",
    "np.max, np.sum, np.where, np.min, np.add, np.multiply, np.cos, np.arange, np.linspace\n"
   ]
  },
  {
   "cell_type": "markdown",
   "metadata": {},
   "source": [
    "### Types ? How does that work inside a python flexible environment ?"
   ]
  },
  {
   "cell_type": "code",
   "execution_count": null,
   "metadata": {},
   "outputs": [],
   "source": [
    "np.linspace(1,10,3)"
   ]
  },
  {
   "cell_type": "code",
   "execution_count": null,
   "metadata": {},
   "outputs": [],
   "source": [
    "arr = np.array(prcp, dtype=np.float16)"
   ]
  },
  {
   "cell_type": "code",
   "execution_count": null,
   "metadata": {},
   "outputs": [],
   "source": [
    "arr.mean()\n",
    "arr.std()\n"
   ]
  },
  {
   "cell_type": "code",
   "execution_count": null,
   "metadata": {},
   "outputs": [],
   "source": [
    "# watchout for overflows / wrap around\n",
    "np.uint8(300)"
   ]
  },
  {
   "cell_type": "markdown",
   "metadata": {},
   "source": [
    "### Slicing\n",
    "\n",
    "*Just like many other iterables, arrays support complex indexing*\n",
    "\n",
    "```arr[0, 0]``` to get the first element in a 2d array"
   ]
  },
  {
   "cell_type": "code",
   "execution_count": null,
   "metadata": {},
   "outputs": [],
   "source": [
    "arr[::-1]\n",
    "\"hello world\"[::-1]\n",
    "\n"
   ]
  },
  {
   "cell_type": "code",
   "execution_count": null,
   "metadata": {},
   "outputs": [],
   "source": [
    "from matplotlib import image\n",
    "import matplotlib.pyplot as plt\n",
    "\n",
    "koala :np.ndarray = image.imread(\"../data/koala.jpeg\")\n",
    "\n",
    "plt.imshow(koala)\n",
    "plt.show()"
   ]
  },
  {
   "cell_type": "markdown",
   "metadata": {},
   "source": [
    "### Implement a function to zoom on the lower right quarter of the image "
   ]
  },
  {
   "cell_type": "code",
   "execution_count": null,
   "metadata": {},
   "outputs": [],
   "source": [
    "def zoom(image: np.ndarray) -> np.ndarray:\n",
    "    \"\"\"shows lower right quarter, returns sliced matrix\"\"\"\n",
    "    focus : np.ndarray = ...\n",
    "    return focus\n",
    "\n",
    "sliced = zoom(koala)"
   ]
  },
  {
   "cell_type": "code",
   "execution_count": null,
   "metadata": {},
   "outputs": [],
   "source": [
    "assert (sliced == zoom_sol(koala)).all()\n",
    "plt.imshow(sliced)"
   ]
  },
  {
   "cell_type": "markdown",
   "metadata": {},
   "source": [
    "### Create a random noise matrix with the same shape as the koala matrix, max value of each item should be 70\n",
    "\n",
    "    - show the result of the image after adding the random noise\n",
    "    - show the result of the image after substracting the random noise"
   ]
  },
  {
   "cell_type": "code",
   "execution_count": null,
   "metadata": {},
   "outputs": [],
   "source": [
    "noise = ..."
   ]
  },
  {
   "cell_type": "code",
   "execution_count": null,
   "metadata": {},
   "outputs": [],
   "source": [
    "plt.imshow(noise - koala)"
   ]
  },
  {
   "cell_type": "code",
   "execution_count": null,
   "metadata": {},
   "outputs": [],
   "source": [
    "plt.imshow(noise + koala)"
   ]
  },
  {
   "cell_type": "markdown",
   "metadata": {},
   "source": [
    "### polarizing\n",
    "\n",
    "select the pixels that are:\n",
    "\n",
    "    - too bright (sum of their values > 255 * 0.8 * 3): set them to white\n",
    "    - too dark (sum of their values < 255 * 0.2 * 3): set them to black"
   ]
  },
  {
   "cell_type": "code",
   "execution_count": null,
   "metadata": {},
   "outputs": [],
   "source": [
    "plt.imshow(koala)"
   ]
  },
  {
   "cell_type": "code",
   "execution_count": null,
   "metadata": {},
   "outputs": [],
   "source": [
    "def polarize(image:np.ndarray)-> np.ndarray:\n",
    "    \"\"\"polarize the image\"\"\"\n",
    "    altered = image.copy()\n",
    "    ...\n",
    "    return altered\n",
    "\n",
    "polarized = polarize(koala)"
   ]
  },
  {
   "cell_type": "code",
   "execution_count": null,
   "metadata": {},
   "outputs": [],
   "source": [
    "assert (polarized == polarize_sol(koala)).all()\n",
    "plt.imshow(polarized)"
   ]
  },
  {
   "cell_type": "markdown",
   "metadata": {},
   "source": [
    "### blue koala\n",
    "\n",
    "Set all the RGB channels other than blue to be black this way we'll have an image with only blue pixels"
   ]
  },
  {
   "cell_type": "code",
   "execution_count": null,
   "metadata": {},
   "outputs": [],
   "source": [
    "def blue(image: np.ndarray) -> np.ndarray:\n",
    "    \"\"\"blacks out Red and Green channels of image\"\"\"\n",
    "    other = image.copy()\n",
    "    ...\n",
    "    return other\n",
    "\n",
    "b_k = blue(koala)"
   ]
  },
  {
   "cell_type": "code",
   "execution_count": null,
   "metadata": {},
   "outputs": [],
   "source": [
    "assert (b_k == blue_sol(koala)).all()\n",
    "plt.imshow(b_k)"
   ]
  },
  {
   "cell_type": "markdown",
   "metadata": {},
   "source": [
    "## Back to the RAIN"
   ]
  },
  {
   "cell_type": "code",
   "execution_count": null,
   "metadata": {},
   "outputs": [],
   "source": [
    "rain = np.array(read_rain_prcp_sol(), dtype=np.float16)\n",
    "\n",
    "def read_temp_data() -> tuple[np.ndarray,np.ndarray]:\n",
    "    ...\n",
    "    return ..., ...\n",
    "\n",
    "max_t, min_t = read_temp_data_sol()"
   ]
  },
  {
   "cell_type": "markdown",
   "metadata": {},
   "source": [
    "#### Compute the average temperature for each day"
   ]
  },
  {
   "cell_type": "code",
   "execution_count": null,
   "metadata": {},
   "outputs": [],
   "source": [
    "avg_tmp = ..."
   ]
  },
  {
   "cell_type": "markdown",
   "metadata": {},
   "source": [
    "#### Compute the correlation coefficient between\n",
    "\n",
    "    - max_t & min_t\n",
    "    - rain & max_t\n",
    "    - rain & min_t\n",
    "    - rain & max_t - min_t\n"
   ]
  },
  {
   "cell_type": "code",
   "execution_count": null,
   "metadata": {},
   "outputs": [],
   "source": [
    "print(np.corrcoef(max_t, min_t), end=\"\\n\"+\"-\"*10+\"\\n\")\n",
    "print(np.corrcoef(rain, max_t), end=\"\\n\"+\"-\"*10+\"\\n\")\n",
    "print(np.corrcoef(rain, min_t), end=\"\\n\"+\"-\"*10+\"\\n\")\n",
    "print(np.corrcoef(rain, max_t-min_t), end=\"\\n\"+\"-\"*10+\"\\n\")"
   ]
  },
  {
   "cell_type": "markdown",
   "metadata": {},
   "source": [
    "#### Compute the moving rain fall average"
   ]
  },
  {
   "cell_type": "code",
   "execution_count": null,
   "metadata": {},
   "outputs": [],
   "source": [
    "def plot_rain(data: np.ndarray) -> None:\n",
    "    plt.figure(figsize=(10, 5))\n",
    "    plt.title(\"Rain Fall\")\n",
    "    plt.xlabel(\"date\")\n",
    "    plt.ylabel(\"ml / m2\")\n",
    "    plt.plot(data)\n",
    "    plt.show()\n",
    "\n",
    "plot_rain(rain)"
   ]
  },
  {
   "cell_type": "code",
   "execution_count": null,
   "metadata": {},
   "outputs": [],
   "source": [
    "def moving_avg(array: np.ndarray, window:int) -> np.ndarray:\n",
    "    \"\"\" create a new array with the same size as ass given one\n",
    "        iterate over the old one and fill the new one with the average of the old array window going forward\n",
    "        hint: use indexing take advantage of the fact that numpy does not error out when slicing over bigger indices\n",
    "        preallocate with zeros_like, ones_like\n",
    "    \"\"\"\n",
    "    arr = np...(array)\n",
    "    ...\n",
    "    return arr\n",
    "\n",
    "mva = moving_avg(rain, 365)"
   ]
  },
  {
   "cell_type": "code",
   "execution_count": null,
   "metadata": {},
   "outputs": [],
   "source": [
    "assert (mva == moving_avg_sol(rain, 365)).all()\n",
    "plot_rain(mva)"
   ]
  },
  {
   "cell_type": "code",
   "execution_count": null,
   "metadata": {},
   "outputs": [],
   "source": []
  }
 ],
 "metadata": {
  "interpreter": {
   "hash": "76f5d1897a2ea8cbdeb2e36f2c2c360c255c5a406b6a3b63b12ac714435507a8"
  },
  "kernelspec": {
   "display_name": "Python 3.9.6 64-bit ('venv': venv)",
   "language": "python",
   "name": "python3"
  },
  "language_info": {
   "codemirror_mode": {
    "name": "ipython",
    "version": 3
   },
   "file_extension": ".py",
   "mimetype": "text/x-python",
   "name": "python",
   "nbconvert_exporter": "python",
   "pygments_lexer": "ipython3",
   "version": "3.8.10"
  },
  "orig_nbformat": 4
 },
 "nbformat": 4,
 "nbformat_minor": 2
}
