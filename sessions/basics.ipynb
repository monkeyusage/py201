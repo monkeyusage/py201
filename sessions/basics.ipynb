{
 "cells": [
  {
   "cell_type": "markdown",
   "metadata": {},
   "source": [
    "# Refresher: python101"
   ]
  },
  {
   "cell_type": "markdown",
   "metadata": {},
   "source": [
    "### a dynamic language"
   ]
  },
  {
   "cell_type": "code",
   "execution_count": 1,
   "metadata": {},
   "outputs": [
    {
     "name": "stdout",
     "output_type": "stream",
     "text": [
      "10\n"
     ]
    }
   ],
   "source": [
    "x = 10\n",
    "\n",
    "print(x)"
   ]
  },
  {
   "cell_type": "code",
   "execution_count": 2,
   "metadata": {},
   "outputs": [
    {
     "name": "stdout",
     "output_type": "stream",
     "text": [
      "hello\n"
     ]
    }
   ],
   "source": [
    "x = \"hello\"\n",
    "print(x)\n",
    "\n",
    "x = 10"
   ]
  },
  {
   "cell_type": "code",
   "execution_count": 3,
   "metadata": {},
   "outputs": [
    {
     "data": {
      "text/plain": [
       "5.0"
      ]
     },
     "execution_count": 3,
     "metadata": {},
     "output_type": "execute_result"
    }
   ],
   "source": [
    "x / 2"
   ]
  },
  {
   "cell_type": "code",
   "execution_count": 4,
   "metadata": {},
   "outputs": [
    {
     "data": {
      "text/plain": [
       "11"
      ]
     },
     "execution_count": 4,
     "metadata": {},
     "output_type": "execute_result"
    }
   ],
   "source": [
    "x + 1"
   ]
  },
  {
   "cell_type": "code",
   "execution_count": 5,
   "metadata": {},
   "outputs": [
    {
     "name": "stdout",
     "output_type": "stream",
     "text": [
      "11\n"
     ]
    }
   ],
   "source": [
    "x = x + 1\n",
    "print(x)"
   ]
  },
  {
   "cell_type": "code",
   "execution_count": 6,
   "metadata": {},
   "outputs": [
    {
     "name": "stdout",
     "output_type": "stream",
     "text": [
      "12\n",
      "36\n"
     ]
    }
   ],
   "source": [
    "x += 1\n",
    "print(x)\n",
    "x *= 3\n",
    "print(x)"
   ]
  },
  {
   "cell_type": "markdown",
   "metadata": {},
   "source": [
    "## basic building blocks: syntax and datatypes"
   ]
  },
  {
   "cell_type": "code",
   "execution_count": 7,
   "metadata": {},
   "outputs": [
    {
     "data": {
      "text/plain": [
       "int"
      ]
     },
     "execution_count": 7,
     "metadata": {},
     "output_type": "execute_result"
    }
   ],
   "source": [
    "type(x)"
   ]
  },
  {
   "cell_type": "code",
   "execution_count": 8,
   "metadata": {},
   "outputs": [],
   "source": [
    "# this is ignored"
   ]
  },
  {
   "cell_type": "markdown",
   "metadata": {},
   "source": [
    "#### conditions"
   ]
  },
  {
   "cell_type": "code",
   "execution_count": 9,
   "metadata": {},
   "outputs": [
    {
     "name": "stdout",
     "output_type": "stream",
     "text": [
      "helloo\n"
     ]
    }
   ],
   "source": [
    "if x > 5:\n",
    "    print(\"helloo\")\n",
    "elif x < 15:\n",
    "    print(\"world\")\n",
    "else:\n",
    "    print(\"!\")"
   ]
  },
  {
   "cell_type": "code",
   "execution_count": 10,
   "metadata": {},
   "outputs": [
    {
     "name": "stdout",
     "output_type": "stream",
     "text": [
      "helloo\n",
      "!\n"
     ]
    }
   ],
   "source": [
    "if x > 5:\n",
    "    print(\"helloo\")\n",
    "if x < 15:\n",
    "    print(\"world\")\n",
    "else:\n",
    "    print(\"!\")"
   ]
  },
  {
   "cell_type": "markdown",
   "metadata": {},
   "source": [
    "#### numbers types"
   ]
  },
  {
   "cell_type": "code",
   "execution_count": 11,
   "metadata": {},
   "outputs": [],
   "source": [
    "# type(x) # int\n",
    "# type(1.1) # float\n",
    "# type(1+1j) # complex"
   ]
  },
  {
   "cell_type": "markdown",
   "metadata": {},
   "source": [
    "## container types: lists, tuples, dictionaries, sets and strings\n",
    "\n",
    "containers hold values, since python is dynamic containers can hold any type of values including other containers"
   ]
  },
  {
   "cell_type": "code",
   "execution_count": 12,
   "metadata": {},
   "outputs": [],
   "source": [
    "# type([])\n",
    "# type(())\n",
    "# type(set())\n",
    "# type({})\n",
    "# type(\"\")"
   ]
  },
  {
   "cell_type": "markdown",
   "metadata": {},
   "source": [
    "#### lists: ordered, mutable containers"
   ]
  },
  {
   "cell_type": "code",
   "execution_count": 13,
   "metadata": {},
   "outputs": [
    {
     "data": {
      "text/plain": [
       "[1,\n",
       " 1.4,\n",
       " (10+3j),\n",
       " 'hello',\n",
       " None,\n",
       " (0, 1),\n",
       " {'name': 'john', 'age': 33},\n",
       " 10,\n",
       " 10,\n",
       " 30,\n",
       " 400,\n",
       " 999]"
      ]
     },
     "execution_count": 13,
     "metadata": {},
     "output_type": "execute_result"
    }
   ],
   "source": [
    "items = [1, 1.4, 10+3j, \"hello\", None, (0, 1), {\"name\":\"john\", \"age\":33}]\n",
    "items.append(10)\n",
    "items.extend([10, 30, 400, 999])\n",
    "items"
   ]
  },
  {
   "cell_type": "code",
   "execution_count": 14,
   "metadata": {},
   "outputs": [
    {
     "data": {
      "text/plain": [
       "[1,\n",
       " 1.4,\n",
       " (10+3j),\n",
       " 'hello',\n",
       " None,\n",
       " (0, 1),\n",
       " {'name': 'john', 'age': 33},\n",
       " 10,\n",
       " 10,\n",
       " 30,\n",
       " 400]"
      ]
     },
     "execution_count": 14,
     "metadata": {},
     "output_type": "execute_result"
    }
   ],
   "source": [
    "items.pop()\n",
    "items"
   ]
  },
  {
   "cell_type": "markdown",
   "metadata": {},
   "source": [
    "#### A note about indexing"
   ]
  },
  {
   "cell_type": "markdown",
   "metadata": {},
   "source": [
    "### implicit arguments for slicing\n",
    "\n",
    "`[index]` => one argument is the index\n",
    "\n",
    "`[start:end]` => two arguments are start and stop\n",
    "\n",
    "`[start:end:step]` => 3 args are start stop and step\n",
    "\n",
    "`[::]` start is 0, end is len(list) , step is is 1\n"
   ]
  },
  {
   "cell_type": "code",
   "execution_count": 15,
   "metadata": {},
   "outputs": [
    {
     "data": {
      "text/plain": [
       "(1, 400)"
      ]
     },
     "execution_count": 15,
     "metadata": {},
     "output_type": "execute_result"
    }
   ],
   "source": [
    "items[0], items[-1]"
   ]
  },
  {
   "cell_type": "code",
   "execution_count": 16,
   "metadata": {},
   "outputs": [
    {
     "data": {
      "text/plain": [
       "[1.4, (10+3j)]"
      ]
     },
     "execution_count": 16,
     "metadata": {},
     "output_type": "execute_result"
    }
   ],
   "source": [
    "items[1:3]"
   ]
  },
  {
   "cell_type": "code",
   "execution_count": 17,
   "metadata": {},
   "outputs": [
    {
     "data": {
      "text/plain": [
       "[10, 30, 400]"
      ]
     },
     "execution_count": 17,
     "metadata": {},
     "output_type": "execute_result"
    }
   ],
   "source": [
    "items[-3:]"
   ]
  },
  {
   "cell_type": "code",
   "execution_count": 18,
   "metadata": {},
   "outputs": [
    {
     "name": "stdout",
     "output_type": "stream",
     "text": [
      "[1, 1.4, (10+3j), 'hello', None, (0, 1), {'name': 'john', 'age': 33}, 10, 10, 30, 400]\n"
     ]
    },
    {
     "data": {
      "text/plain": [
       "[1,\n",
       " 1.4,\n",
       " (10+3j),\n",
       " 'hello',\n",
       " None,\n",
       " (0, 1),\n",
       " {'name': 'john', 'age': 33},\n",
       " 10,\n",
       " 10,\n",
       " 30]"
      ]
     },
     "execution_count": 18,
     "metadata": {},
     "output_type": "execute_result"
    }
   ],
   "source": [
    "print(items)\n",
    "items[0:-1]"
   ]
  },
  {
   "cell_type": "code",
   "execution_count": 19,
   "metadata": {},
   "outputs": [
    {
     "data": {
      "text/plain": [
       "[1, 64, 32, 98, 10]"
      ]
     },
     "execution_count": 19,
     "metadata": {},
     "output_type": "execute_result"
    }
   ],
   "source": [
    "# reverse a list using indexing\n",
    "numbers = [0, 1, 64, 32, 98, 10]\n",
    "# numbers[0:len(numbers):1] == numbers[::]\n",
    "numbers = numbers[1:]\n",
    "numbers"
   ]
  },
  {
   "cell_type": "markdown",
   "metadata": {},
   "source": [
    "#### tuples: ordered, immutable containers"
   ]
  },
  {
   "cell_type": "code",
   "execution_count": 20,
   "metadata": {},
   "outputs": [
    {
     "name": "stdout",
     "output_type": "stream",
     "text": [
      "('mon', 'tue', 'wed', 'thur', 'fri')\n"
     ]
    }
   ],
   "source": [
    "weekdays = (\"mon\", \"tue\", \"wed\", \"thur\", \"fri\")\n",
    "# weekdays.append(\"sun\" weekdays\n",
    "print(weekdays)"
   ]
  },
  {
   "cell_type": "code",
   "execution_count": 21,
   "metadata": {},
   "outputs": [
    {
     "data": {
      "text/plain": [
       "('mon', 'fri')"
      ]
     },
     "execution_count": 21,
     "metadata": {},
     "output_type": "execute_result"
    }
   ],
   "source": [
    "weekdays[0], weekdays[-1]"
   ]
  },
  {
   "cell_type": "markdown",
   "metadata": {},
   "source": [
    "#### dicts: unordered key value, mutable containers"
   ]
  },
  {
   "cell_type": "code",
   "execution_count": 22,
   "metadata": {},
   "outputs": [],
   "source": [
    "capitals = {\n",
    "    \"France\":\"Paris\",\n",
    "    \"UK\": \"London\",\n",
    "    \"Spain\":\"Madrid\"\n",
    "}\n",
    "\n",
    "capitals[\"France\"]\n",
    "c = {}\n",
    "\n",
    "for key, value in capitals.items():\n",
    "    c[value] = key\n",
    "capitals = c"
   ]
  },
  {
   "cell_type": "code",
   "execution_count": 23,
   "metadata": {},
   "outputs": [],
   "source": [
    "d = {}\n",
    "d[\"q\"] = 1\n",
    "d[(1, 1)] = 2\n",
    "#d[[1, 1]] = 2"
   ]
  },
  {
   "cell_type": "code",
   "execution_count": 24,
   "metadata": {},
   "outputs": [],
   "source": [
    "l = list(range(10_000_000))\n",
    "s = set(l)"
   ]
  },
  {
   "cell_type": "code",
   "execution_count": 25,
   "metadata": {},
   "outputs": [
    {
     "name": "stdout",
     "output_type": "stream",
     "text": [
      "199 ms ± 23.1 ms per loop (mean ± std. dev. of 7 runs, 1 loop each)\n"
     ]
    }
   ],
   "source": [
    "%%timeit\n",
    "\n",
    "9_999_999 in l"
   ]
  },
  {
   "cell_type": "code",
   "execution_count": 26,
   "metadata": {},
   "outputs": [
    {
     "name": "stdout",
     "output_type": "stream",
     "text": [
      "96.3 ns ± 8.2 ns per loop (mean ± std. dev. of 7 runs, 10000000 loops each)\n"
     ]
    }
   ],
   "source": [
    "%%timeit\n",
    "\n",
    "9_999_999 in s"
   ]
  },
  {
   "cell_type": "code",
   "execution_count": 27,
   "metadata": {},
   "outputs": [
    {
     "data": {
      "text/plain": [
       "dict_items([('Paris', 'France'), ('London', 'UK'), ('Madrid', 'Spain')])"
      ]
     },
     "execution_count": 27,
     "metadata": {},
     "output_type": "execute_result"
    }
   ],
   "source": [
    "capitals.items()"
   ]
  },
  {
   "cell_type": "code",
   "execution_count": 28,
   "metadata": {},
   "outputs": [],
   "source": [
    "capitals[\"Paris\"] = \"Spain\""
   ]
  },
  {
   "cell_type": "code",
   "execution_count": 29,
   "metadata": {},
   "outputs": [
    {
     "data": {
      "text/plain": [
       "['Spain', 'UK', 'Spain']"
      ]
     },
     "execution_count": 29,
     "metadata": {},
     "output_type": "execute_result"
    }
   ],
   "source": [
    "list(capitals.values())"
   ]
  },
  {
   "cell_type": "code",
   "execution_count": 30,
   "metadata": {},
   "outputs": [],
   "source": [
    "# capitals[0]\n",
    "# capitals[\"Catalonia\"] = \"Barcelona\"\n",
    "# capitals.values()\n",
    "# capitals.keys()\n",
    "# capitals.items()\n",
    "# capitals[\"France\"] = \"London\"\n",
    "# capitals[\"Amazon\"]\n",
    "# capitals.get(\"Amazon\", \"Not a country\")"
   ]
  },
  {
   "cell_type": "markdown",
   "metadata": {},
   "source": [
    "#### the string type"
   ]
  },
  {
   "cell_type": "code",
   "execution_count": 31,
   "metadata": {},
   "outputs": [
    {
     "data": {
      "text/plain": [
       "str"
      ]
     },
     "execution_count": 31,
     "metadata": {},
     "output_type": "execute_result"
    }
   ],
   "source": [
    "type(\"hello world\")"
   ]
  },
  {
   "cell_type": "code",
   "execution_count": 32,
   "metadata": {},
   "outputs": [
    {
     "data": {
      "text/plain": [
       "'hello world, what a beautiful day'"
      ]
     },
     "execution_count": 32,
     "metadata": {},
     "output_type": "execute_result"
    }
   ],
   "source": [
    "msg = \"hello world, what a beautiful day\"\n",
    "msg"
   ]
  },
  {
   "cell_type": "code",
   "execution_count": 33,
   "metadata": {},
   "outputs": [
    {
     "data": {
      "text/plain": [
       "'hello class, what a beautiful day'"
      ]
     },
     "execution_count": 33,
     "metadata": {},
     "output_type": "execute_result"
    }
   ],
   "source": [
    "msg.replace(\"world\", \"class\")"
   ]
  },
  {
   "cell_type": "code",
   "execution_count": 34,
   "metadata": {},
   "outputs": [
    {
     "data": {
      "text/plain": [
       "'hello world, what a beautiful day'"
      ]
     },
     "execution_count": 34,
     "metadata": {},
     "output_type": "execute_result"
    }
   ],
   "source": [
    "# msg = msg.replace(\"world\", \"class\")\n",
    "msg"
   ]
  },
  {
   "cell_type": "code",
   "execution_count": 35,
   "metadata": {},
   "outputs": [],
   "source": [
    "# msg.split(\" \")\n",
    "# msg.split(\", \")\n",
    "# msg.upper()\n",
    "# msg.capitalize()\n",
    "# msg.endswith(\"day\")\n",
    "# msg.startswith(\"hel\")\n",
    "# msg.count(\"l\")\n",
    "# msg.isnumeric()\n",
    "# msg.title()\n",
    "# msg.encode(\"utf8\")\n",
    "# msg[-7:]"
   ]
  },
  {
   "cell_type": "markdown",
   "metadata": {},
   "source": [
    "#### sets: unordered mutable hashable items container"
   ]
  },
  {
   "cell_type": "code",
   "execution_count": 36,
   "metadata": {},
   "outputs": [
    {
     "data": {
      "text/plain": [
       "{1}"
      ]
     },
     "execution_count": 36,
     "metadata": {},
     "output_type": "execute_result"
    }
   ],
   "source": [
    "s = set()\n",
    "\n",
    "s.add(1)\n",
    "s"
   ]
  },
  {
   "cell_type": "code",
   "execution_count": 37,
   "metadata": {},
   "outputs": [],
   "source": [
    "l = list(range(10_000_000))\n",
    "s = set(l)"
   ]
  },
  {
   "cell_type": "code",
   "execution_count": 38,
   "metadata": {},
   "outputs": [
    {
     "name": "stdout",
     "output_type": "stream",
     "text": [
      "120 ns ± 7.12 ns per loop (mean ± std. dev. of 7 runs, 10000000 loops each)\n"
     ]
    }
   ],
   "source": [
    "%%timeit\n",
    "99999 in s"
   ]
  },
  {
   "cell_type": "code",
   "execution_count": 39,
   "metadata": {},
   "outputs": [
    {
     "name": "stdout",
     "output_type": "stream",
     "text": [
      "2.43 ms ± 232 µs per loop (mean ± std. dev. of 7 runs, 100 loops each)\n"
     ]
    }
   ],
   "source": [
    "%%timeit\n",
    "99999 in l"
   ]
  },
  {
   "cell_type": "code",
   "execution_count": 40,
   "metadata": {},
   "outputs": [],
   "source": [
    "l = [\"q\", \"w\", \"w\", \"e\"]\n",
    "s = set(l)\n"
   ]
  },
  {
   "cell_type": "markdown",
   "metadata": {},
   "source": [
    "### File IO & context managers"
   ]
  },
  {
   "cell_type": "code",
   "execution_count": 41,
   "metadata": {},
   "outputs": [],
   "source": [
    "with open(\"test.txt\",\"w\") as file:\n",
    "    file.write(\"now that's a file!\\nexactly the kind of text you'll find in a test file\\nwhat about NO\\nnow what a text file am i reading?\\n\") "
   ]
  },
  {
   "cell_type": "code",
   "execution_count": 42,
   "metadata": {},
   "outputs": [],
   "source": [
    "# many types of file permissions\n",
    "permissions = {\n",
    "    \"r\":\"read\",\n",
    "    \"w\": \"write\",\n",
    "    \"a\": \"append\"\n",
    "}"
   ]
  },
  {
   "cell_type": "code",
   "execution_count": 43,
   "metadata": {},
   "outputs": [
    {
     "name": "stdout",
     "output_type": "stream",
     "text": [
      "----------\n",
      "opening test.txt with read\n",
      "now that's a file!\n",
      "exactly the kind of text you'll find in a test file\n",
      "what about NO\n",
      "now what a text file am i reading?\n",
      "\n",
      "----------\n",
      "opening test.txt with append\n"
     ]
    }
   ],
   "source": [
    "for permission, permission_name in permissions.items():\n",
    "    if permission == \"w\": continue\n",
    "    print(f\"{'-' * 10}\\nopening test.txt with {permission_name}\")\n",
    "    file = open(\"test.txt\", permission)\n",
    "    if permission == \"r\":\n",
    "        content = file.read()\n",
    "        print(content)\n",
    "    elif permission == \"a\":\n",
    "            file.write(\"another one bites the dust\\n\")\n",
    "    file.close()\n"
   ]
  },
  {
   "cell_type": "code",
   "execution_count": 44,
   "metadata": {},
   "outputs": [
    {
     "name": "stdout",
     "output_type": "stream",
     "text": [
      "----------\n",
      "opening test.txt with read\n",
      "now that's a file!\n",
      "exactly the kind of text you'll find in a test file\n",
      "what about NO\n",
      "now what a text file am i reading?\n",
      "another one bites the dust\n",
      "\n",
      "----------\n",
      "opening test.txt with append\n"
     ]
    }
   ],
   "source": [
    "for permission, permission_name in permissions.items():\n",
    "    if permission == \"w\": continue\n",
    "    print(f\"{'-' * 10}\\nopening test.txt with {permission_name}\")\n",
    "    with open(\"test.txt\", permission) as file:\n",
    "        match permission:\n",
    "            case \"r\":\n",
    "                content = file.read()\n",
    "                print(content)\n",
    "            case \"a\":\n",
    "                file.write(\"another one bites the dust\\n\")"
   ]
  },
  {
   "cell_type": "code",
   "execution_count": 45,
   "metadata": {},
   "outputs": [],
   "source": [
    "from os import remove\n",
    "remove(\"test.txt\")"
   ]
  },
  {
   "cell_type": "markdown",
   "metadata": {},
   "source": [
    "## functions and scopes"
   ]
  },
  {
   "cell_type": "code",
   "execution_count": 46,
   "metadata": {},
   "outputs": [
    {
     "data": {
      "text/plain": [
       "'world'"
      ]
     },
     "execution_count": 46,
     "metadata": {},
     "output_type": "execute_result"
    }
   ],
   "source": [
    "def hello():\n",
    "    return \"world\"\n",
    "\n",
    "hello()"
   ]
  },
  {
   "cell_type": "code",
   "execution_count": 47,
   "metadata": {},
   "outputs": [
    {
     "data": {
      "text/plain": [
       "6"
      ]
     },
     "execution_count": 47,
     "metadata": {},
     "output_type": "execute_result"
    }
   ],
   "source": [
    "def m(a, b):\n",
    "    return 2*a + b\n",
    "\n",
    "m(1, 4)"
   ]
  },
  {
   "cell_type": "code",
   "execution_count": 48,
   "metadata": {},
   "outputs": [
    {
     "name": "stdout",
     "output_type": "stream",
     "text": [
      "inside function num is :  20  before being doubled\n",
      "result is:  40\n",
      "l is now:  [0, 10]\n"
     ]
    }
   ],
   "source": [
    "# def m(a:int, b:int) -> int:\n",
    "#     return 0.1\n",
    "\n",
    "var = 10\n",
    "l = [0, 10]\n",
    "def add10thendouble(num:int) -> int:\n",
    "    num += 10\n",
    "    print(\"inside function num is : \", num, \" before being doubled\")\n",
    "    return num * 2\n",
    "\n",
    "print(\"result is: \", add10thendouble(var))\n",
    "print(\"l is now: \", l)"
   ]
  },
  {
   "cell_type": "code",
   "execution_count": 49,
   "metadata": {},
   "outputs": [],
   "source": [
    "# num"
   ]
  },
  {
   "cell_type": "code",
   "execution_count": 50,
   "metadata": {},
   "outputs": [],
   "source": [
    "def f(a, b):\n",
    "    a += 10\n",
    "    b = a /12\n",
    "    return a + b\n",
    "\n",
    "(lambda x : x + 1)(10)\n",
    "\n",
    "def printf(string:str, *args) -> None:\n",
    "    print(string)\n",
    "    for arg in args:\n",
    "        print(arg)\n"
   ]
  },
  {
   "cell_type": "code",
   "execution_count": 51,
   "metadata": {},
   "outputs": [
    {
     "data": {
      "text/plain": [
       "range(0, 3)"
      ]
     },
     "execution_count": 51,
     "metadata": {},
     "output_type": "execute_result"
    }
   ],
   "source": [
    "range(3)"
   ]
  },
  {
   "cell_type": "markdown",
   "metadata": {},
   "source": [
    "### higher order functions\n",
    "\n",
    "functions are just like variables, they can be passed around as arguments of other functions"
   ]
  },
  {
   "cell_type": "code",
   "execution_count": 52,
   "metadata": {},
   "outputs": [
    {
     "name": "stdout",
     "output_type": "stream",
     "text": [
      "inside function num is :  20  before being doubled\n",
      "inside function num is :  30  before being doubled\n",
      "inside function num is :  40  before being doubled\n"
     ]
    },
    {
     "data": {
      "text/plain": [
       "[40, 60, 80]"
      ]
     },
     "execution_count": 52,
     "metadata": {},
     "output_type": "execute_result"
    }
   ],
   "source": [
    "list(map(add10thendouble, [10, 20, 30]))"
   ]
  },
  {
   "cell_type": "code",
   "execution_count": 53,
   "metadata": {},
   "outputs": [
    {
     "data": {
      "text/plain": [
       "(['HI', 'HOIH', 'FWOIJI'], ['HI', 'IUOFWHE', 'FEWIFO'])"
      ]
     },
     "execution_count": 53,
     "metadata": {},
     "output_type": "execute_result"
    }
   ],
   "source": [
    "# you can define anonymous functions\n",
    "mapping = list(map(lambda x: x.upper(), [\"hi\", \"hoih\", \"fwoiji\"]))\n",
    "\n",
    "def mapy(strings):\n",
    "    out = []\n",
    "    for string in strings:\n",
    "        out.append(string.upper())\n",
    "    return out\n",
    "\n",
    "mappy2 = mapy([\"hi\", \"iuofwhe\", \"fewifo\"])\n",
    "\n",
    "mapping, mappy2"
   ]
  },
  {
   "cell_type": "code",
   "execution_count": 54,
   "metadata": {},
   "outputs": [
    {
     "data": {
      "text/plain": [
       "[1, 2, 3, 4, 5, 6, 7, 8, 9, 10]"
      ]
     },
     "execution_count": 54,
     "metadata": {},
     "output_type": "execute_result"
    }
   ],
   "source": [
    "list(map(lambda x: x + 1, range(10)))"
   ]
  },
  {
   "cell_type": "markdown",
   "metadata": {},
   "source": [
    "### a note about generators"
   ]
  },
  {
   "cell_type": "code",
   "execution_count": 55,
   "metadata": {},
   "outputs": [],
   "source": [
    "from random import randint\n",
    "\n",
    "nums = [randint(0, 1000) for n in range(10_000_000)] # about 400 MB"
   ]
  },
  {
   "cell_type": "code",
   "execution_count": 56,
   "metadata": {},
   "outputs": [
    {
     "name": "stdout",
     "output_type": "stream",
     "text": [
      "537 ns ± 72.3 ns per loop (mean ± std. dev. of 7 runs, 1000000 loops each)\n"
     ]
    }
   ],
   "source": [
    "%%timeit\n",
    "map(lambda x: x + 1, nums)"
   ]
  },
  {
   "cell_type": "code",
   "execution_count": 57,
   "metadata": {},
   "outputs": [
    {
     "name": "stdout",
     "output_type": "stream",
     "text": [
      "382 583 315 96 864 312 782 297 600 424 "
     ]
    }
   ],
   "source": [
    "for i in map(lambda x: x+ 1, nums[:10]):\n",
    "    print(i, end=\" \")"
   ]
  },
  {
   "cell_type": "code",
   "execution_count": 58,
   "metadata": {},
   "outputs": [
    {
     "name": "stdout",
     "output_type": "stream",
     "text": [
      "1.87 s ± 206 ms per loop (mean ± std. dev. of 7 runs, 1 loop each)\n"
     ]
    }
   ],
   "source": [
    "%%timeit\n",
    "[item+1 for item in nums] # this doubles the memory during execution as we create another huge list"
   ]
  },
  {
   "cell_type": "code",
   "execution_count": 59,
   "metadata": {},
   "outputs": [
    {
     "name": "stdout",
     "output_type": "stream",
     "text": [
      "855 ms ± 103 ms per loop (mean ± std. dev. of 7 runs, 1 loop each)\n"
     ]
    }
   ],
   "source": [
    "%%timeit\n",
    "for item in nums:\n",
    "    item + 1"
   ]
  },
  {
   "cell_type": "code",
   "execution_count": 60,
   "metadata": {},
   "outputs": [],
   "source": [
    "# writing our own generator\n",
    "def infinity():\n",
    "    count = 0\n",
    "    while True:\n",
    "        count += 1\n",
    "        yield count"
   ]
  },
  {
   "cell_type": "code",
   "execution_count": 61,
   "metadata": {},
   "outputs": [
    {
     "data": {
      "text/plain": [
       "<generator object infinity at 0x000002090D6C5540>"
      ]
     },
     "execution_count": 61,
     "metadata": {},
     "output_type": "execute_result"
    }
   ],
   "source": [
    "infinity()"
   ]
  },
  {
   "cell_type": "code",
   "execution_count": 64,
   "metadata": {},
   "outputs": [
    {
     "name": "stdout",
     "output_type": "stream",
     "text": [
      "100000 200000 300000 400000 500000 600000 700000 800000 900000 1000000 "
     ]
    }
   ],
   "source": [
    "for i in infinity():\n",
    "    if i % 100000 == 0:\n",
    "        print(i, end=' ')\n",
    "    if i > 1000000:\n",
    "        break"
   ]
  },
  {
   "cell_type": "code",
   "execution_count": 65,
   "metadata": {},
   "outputs": [],
   "source": [
    "from typing import TypeVar, Callable, Iterable, Iterator, Any\n",
    "T = TypeVar(\"T\")\n",
    "\n",
    "# an iterator is an object you can iterate over but cannot index\n",
    "# iterable is an indexable object that you can iterate over\n",
    "# a callable an object you can call using the () syntax\n",
    "# typevar T is to indicate that the return type of the function passed is the type returned by our mapfunc function\n",
    "def mapfunc(function: Callable[[Any], T], arguments:Iterable) -> Iterator[T]:\n",
    "    for argument in arguments:\n",
    "        yield function(argument)"
   ]
  },
  {
   "cell_type": "code",
   "execution_count": 66,
   "metadata": {},
   "outputs": [
    {
     "name": "stdout",
     "output_type": "stream",
     "text": [
      "[2, 3, 4]\n"
     ]
    },
    {
     "data": {
      "text/plain": [
       "[2, 3, 4]"
      ]
     },
     "execution_count": 66,
     "metadata": {},
     "output_type": "execute_result"
    }
   ],
   "source": [
    "print(list(map(lambda x: x+1, [1,2,3])))\n",
    "list(mapfunc(lambda x: x+ 1, [1,2,3]))"
   ]
  },
  {
   "cell_type": "code",
   "execution_count": 67,
   "metadata": {},
   "outputs": [],
   "source": [
    "def apply(func, items):\n",
    "    return [func(item) for item in items]"
   ]
  },
  {
   "cell_type": "code",
   "execution_count": 68,
   "metadata": {},
   "outputs": [
    {
     "data": {
      "text/plain": [
       "[22026.465794806718, 2.6881171418161356e+43, 7.307059979368067e+43]"
      ]
     },
     "execution_count": 68,
     "metadata": {},
     "output_type": "execute_result"
    }
   ],
   "source": [
    "import math\n",
    "apply(math.exp, [10, 100, 101])"
   ]
  },
  {
   "cell_type": "code",
   "execution_count": null,
   "metadata": {},
   "outputs": [],
   "source": []
  }
 ],
 "metadata": {
  "interpreter": {
   "hash": "68376282b2a9d375bea26456f4b7cb59a82756d8cc7f06e19e80720e7f156c3f"
  },
  "kernelspec": {
   "display_name": "Python 3.10.0 64-bit ('venv': venv)",
   "language": "python",
   "name": "python3"
  },
  "language_info": {
   "codemirror_mode": {
    "name": "ipython",
    "version": 3
   },
   "file_extension": ".py",
   "mimetype": "text/x-python",
   "name": "python",
   "nbconvert_exporter": "python",
   "pygments_lexer": "ipython3",
   "version": "3.10.0"
  },
  "orig_nbformat": 4
 },
 "nbformat": 4,
 "nbformat_minor": 2
}
