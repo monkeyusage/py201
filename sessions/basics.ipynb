{
 "cells": [
  {
   "cell_type": "markdown",
   "metadata": {},
   "source": [
    "# Refresher: python101"
   ]
  },
  {
   "cell_type": "markdown",
   "metadata": {},
   "source": [
    "### a dynamic language"
   ]
  },
  {
   "cell_type": "code",
   "execution_count": null,
   "metadata": {},
   "outputs": [],
   "source": [
    "x = 10\n",
    "\n",
    "print(x)"
   ]
  },
  {
   "cell_type": "code",
   "execution_count": null,
   "metadata": {},
   "outputs": [],
   "source": [
    "x = \"hello\"\n",
    "print(x)\n",
    "\n",
    "x = 10"
   ]
  },
  {
   "cell_type": "code",
   "execution_count": null,
   "metadata": {},
   "outputs": [],
   "source": [
    "x / 2"
   ]
  },
  {
   "cell_type": "code",
   "execution_count": null,
   "metadata": {},
   "outputs": [],
   "source": [
    "x + 1"
   ]
  },
  {
   "cell_type": "code",
   "execution_count": null,
   "metadata": {},
   "outputs": [],
   "source": [
    "x = x + 1\n",
    "print(x)"
   ]
  },
  {
   "cell_type": "code",
   "execution_count": null,
   "metadata": {},
   "outputs": [],
   "source": [
    "x += 1\n",
    "print(x)\n",
    "x *= 3\n",
    "print(x)"
   ]
  },
  {
   "cell_type": "markdown",
   "metadata": {},
   "source": [
    "## basic building blocks: syntax and datatypes"
   ]
  },
  {
   "cell_type": "code",
   "execution_count": null,
   "metadata": {},
   "outputs": [],
   "source": [
    "type(x)"
   ]
  },
  {
   "cell_type": "code",
   "execution_count": null,
   "metadata": {},
   "outputs": [],
   "source": [
    "# this is ignored"
   ]
  },
  {
   "cell_type": "markdown",
   "metadata": {},
   "source": [
    "#### conditions"
   ]
  },
  {
   "cell_type": "code",
   "execution_count": null,
   "metadata": {},
   "outputs": [],
   "source": [
    "if x > 5:\n",
    "    print(\"helloo\")\n",
    "elif x < 15:\n",
    "    print(\"world\")\n",
    "else:\n",
    "    print(\"!\")"
   ]
  },
  {
   "cell_type": "code",
   "execution_count": null,
   "metadata": {},
   "outputs": [],
   "source": [
    "if x > 5:\n",
    "    print(\"helloo\")\n",
    "if x < 15:\n",
    "    print(\"world\")\n",
    "else:\n",
    "    print(\"!\")"
   ]
  },
  {
   "cell_type": "markdown",
   "metadata": {},
   "source": [
    "#### numbers types"
   ]
  },
  {
   "cell_type": "code",
   "execution_count": null,
   "metadata": {},
   "outputs": [],
   "source": [
    "# type(x) # int\n",
    "# type(1.1) # float\n",
    "# type(1+1j) # complex"
   ]
  },
  {
   "cell_type": "markdown",
   "metadata": {},
   "source": [
    "## container types: lists, tuples, dictionaries, sets and strings\n",
    "\n",
    "containers hold values, since python is dynamic containers can hold any type of values including other containers"
   ]
  },
  {
   "cell_type": "code",
   "execution_count": null,
   "metadata": {},
   "outputs": [],
   "source": [
    "# type([])\n",
    "# type(())\n",
    "# type(set())\n",
    "# type({})\n",
    "# type(\"\")"
   ]
  },
  {
   "cell_type": "markdown",
   "metadata": {},
   "source": [
    "#### lists: ordered, mutable containers"
   ]
  },
  {
   "cell_type": "code",
   "execution_count": null,
   "metadata": {},
   "outputs": [],
   "source": [
    "items = [1, 1.4, 10+3j, \"hello\", None, (0, 1), {\"name\":\"john\", \"age\":33}]\n",
    "items.append(10)\n",
    "items.extend([10, 30, 400, 999])\n",
    "items"
   ]
  },
  {
   "cell_type": "code",
   "execution_count": null,
   "metadata": {},
   "outputs": [],
   "source": [
    "items.pop()\n",
    "items"
   ]
  },
  {
   "cell_type": "markdown",
   "metadata": {},
   "source": [
    "#### A note about indexing"
   ]
  },
  {
   "cell_type": "markdown",
   "metadata": {},
   "source": [
    "### implicit arguments for slicing\n",
    "\n",
    "`[index]` => one argument is the index\n",
    "\n",
    "`[start:end]` => two arguments are start and stop\n",
    "\n",
    "`[start:end:step]` => 3 args are start stop and step\n",
    "\n",
    "`[::]` start is 0, end is len(list) , step is is 1\n"
   ]
  },
  {
   "cell_type": "code",
   "execution_count": null,
   "metadata": {},
   "outputs": [],
   "source": [
    "items[0], items[-1]"
   ]
  },
  {
   "cell_type": "code",
   "execution_count": null,
   "metadata": {},
   "outputs": [],
   "source": [
    "items[1:3]"
   ]
  },
  {
   "cell_type": "code",
   "execution_count": null,
   "metadata": {},
   "outputs": [],
   "source": [
    "items[-3:]"
   ]
  },
  {
   "cell_type": "code",
   "execution_count": null,
   "metadata": {},
   "outputs": [],
   "source": [
    "print(items)\n",
    "items[0:-1]"
   ]
  },
  {
   "cell_type": "code",
   "execution_count": null,
   "metadata": {},
   "outputs": [],
   "source": [
    "# reverse a list using indexing\n",
    "numbers = [0, 1, 64, 32, 98, 10]\n",
    "# numbers[0:len(numbers):1] == numbers[::]\n",
    "numbers = numbers[1:]\n",
    "numbers"
   ]
  },
  {
   "cell_type": "markdown",
   "metadata": {},
   "source": [
    "#### tuples: ordered, immutable containers"
   ]
  },
  {
   "cell_type": "code",
   "execution_count": null,
   "metadata": {},
   "outputs": [],
   "source": [
    "weekdays = (\"mon\", \"tue\", \"wed\", \"thur\", \"fri\")\n",
    "# weekdays.append(\"sun\" weekdays\n",
    "print(weekdays)"
   ]
  },
  {
   "cell_type": "code",
   "execution_count": null,
   "metadata": {},
   "outputs": [],
   "source": [
    "weekdays[0], weekdays[-1]"
   ]
  },
  {
   "cell_type": "markdown",
   "metadata": {},
   "source": [
    "#### dicts: unordered key value, mutable containers"
   ]
  },
  {
   "cell_type": "code",
   "execution_count": null,
   "metadata": {},
   "outputs": [],
   "source": [
    "capitals = {\n",
    "    \"France\":\"Paris\",\n",
    "    \"UK\": \"London\",\n",
    "    \"Spain\":\"Madrid\"\n",
    "}\n",
    "\n",
    "capitals[\"France\"]\n",
    "c = {}\n",
    "\n",
    "for key, value in capitals.items():\n",
    "    c[value] = key\n",
    "capitals = c"
   ]
  },
  {
   "cell_type": "code",
   "execution_count": null,
   "metadata": {},
   "outputs": [],
   "source": [
    "d = {}\n",
    "d[\"q\"] = 1\n",
    "d[(1, 1)] = 2\n",
    "#d[[1, 1]] = 2"
   ]
  },
  {
   "cell_type": "code",
   "execution_count": null,
   "metadata": {},
   "outputs": [],
   "source": [
    "l = list(range(10_000_000))\n",
    "s = set(l)"
   ]
  },
  {
   "cell_type": "code",
   "execution_count": null,
   "metadata": {},
   "outputs": [],
   "source": [
    "%%timeit\n",
    "\n",
    "9_999_999 in l"
   ]
  },
  {
   "cell_type": "code",
   "execution_count": null,
   "metadata": {},
   "outputs": [],
   "source": [
    "%%timeit\n",
    "\n",
    "9_999_999 in s"
   ]
  },
  {
   "cell_type": "code",
   "execution_count": null,
   "metadata": {},
   "outputs": [],
   "source": [
    "capitals.items()"
   ]
  },
  {
   "cell_type": "code",
   "execution_count": null,
   "metadata": {},
   "outputs": [],
   "source": [
    "capitals[\"Paris\"] = \"Spain\""
   ]
  },
  {
   "cell_type": "code",
   "execution_count": null,
   "metadata": {},
   "outputs": [],
   "source": [
    "list(capitals.values())"
   ]
  },
  {
   "cell_type": "code",
   "execution_count": null,
   "metadata": {},
   "outputs": [],
   "source": [
    "# capitals[0]\n",
    "# capitals[\"Catalonia\"] = \"Barcelona\"\n",
    "# capitals.values()\n",
    "# capitals.keys()\n",
    "# capitals.items()\n",
    "# capitals[\"France\"] = \"London\"\n",
    "# capitals[\"Amazon\"]\n",
    "# capitals.get(\"Amazon\", \"Not a country\")"
   ]
  },
  {
   "cell_type": "markdown",
   "metadata": {},
   "source": [
    "#### the string type"
   ]
  },
  {
   "cell_type": "code",
   "execution_count": null,
   "metadata": {},
   "outputs": [],
   "source": [
    "type(\"hello world\")"
   ]
  },
  {
   "cell_type": "code",
   "execution_count": null,
   "metadata": {},
   "outputs": [],
   "source": [
    "msg = \"hello world, what a beautiful day\"\n",
    "msg"
   ]
  },
  {
   "cell_type": "code",
   "execution_count": null,
   "metadata": {},
   "outputs": [],
   "source": [
    "msg.replace(\"world\", \"class\")"
   ]
  },
  {
   "cell_type": "code",
   "execution_count": null,
   "metadata": {},
   "outputs": [],
   "source": [
    "# msg = msg.replace(\"world\", \"class\")\n",
    "msg"
   ]
  },
  {
   "cell_type": "code",
   "execution_count": null,
   "metadata": {},
   "outputs": [],
   "source": [
    "# msg.split(\" \")\n",
    "# msg.split(\", \")\n",
    "# msg.upper()\n",
    "# msg.capitalize()\n",
    "# msg.endswith(\"day\")\n",
    "# msg.startswith(\"hel\")\n",
    "# msg.count(\"l\")\n",
    "# msg.isnumeric()\n",
    "# msg.title()\n",
    "# msg.encode(\"utf8\")\n",
    "# msg[-7:]"
   ]
  },
  {
   "cell_type": "markdown",
   "metadata": {},
   "source": [
    "#### sets: unordered mutable hashable items container"
   ]
  },
  {
   "cell_type": "code",
   "execution_count": null,
   "metadata": {},
   "outputs": [],
   "source": [
    "s = set()\n",
    "\n",
    "s.add(1)\n",
    "s"
   ]
  },
  {
   "cell_type": "code",
   "execution_count": null,
   "metadata": {},
   "outputs": [],
   "source": [
    "l = list(range(10_000_000))\n",
    "s = set(l)"
   ]
  },
  {
   "cell_type": "code",
   "execution_count": null,
   "metadata": {},
   "outputs": [],
   "source": [
    "%%timeit\n",
    "99999 in s"
   ]
  },
  {
   "cell_type": "code",
   "execution_count": null,
   "metadata": {},
   "outputs": [],
   "source": [
    "%%timeit\n",
    "99999 in l"
   ]
  },
  {
   "cell_type": "code",
   "execution_count": null,
   "metadata": {},
   "outputs": [],
   "source": [
    "l = [\"q\", \"w\", \"w\", \"e\"]\n",
    "s = set(l)\n"
   ]
  },
  {
   "cell_type": "markdown",
   "metadata": {},
   "source": [
    "### File IO & context managers"
   ]
  },
  {
   "cell_type": "code",
   "execution_count": null,
   "metadata": {},
   "outputs": [],
   "source": [
    "with open(\"test.txt\",\"w\") as file:\n",
    "    file.write(\"now that's a file!\\nexactly the kind of text you'll find in a test file\\nwhat about NO\\nnow what a text file am i reading?\\n\") "
   ]
  },
  {
   "cell_type": "code",
   "execution_count": null,
   "metadata": {},
   "outputs": [],
   "source": [
    "# many types of file permissions\n",
    "permissions = {\n",
    "    \"r\":\"read\",\n",
    "    \"w\": \"write\",\n",
    "    \"a\": \"append\"\n",
    "}"
   ]
  },
  {
   "cell_type": "code",
   "execution_count": null,
   "metadata": {},
   "outputs": [],
   "source": [
    "for permission, permission_name in permissions.items():\n",
    "    if permission == \"w\": continue\n",
    "    print(f\"{'-' * 10}\\nopening test.txt with {permission_name}\")\n",
    "    file = open(\"test.txt\", permission)\n",
    "    if permission == \"r\":\n",
    "        content = file.read()\n",
    "        print(content)\n",
    "    elif permission == \"a\":\n",
    "            file.write(\"another one bites the dust\\n\")\n",
    "    file.close()\n"
   ]
  },
  {
   "cell_type": "code",
   "execution_count": null,
   "metadata": {},
   "outputs": [],
   "source": [
    "for permission, permission_name in permissions.items():\n",
    "    if permission == \"w\": continue\n",
    "    print(f\"{'-' * 10}\\nopening test.txt with {permission_name}\")\n",
    "    with open(\"test.txt\", permission) as file:\n",
    "        match permission:\n",
    "            case \"r\":\n",
    "                content = file.read()\n",
    "                print(content)\n",
    "            case \"a\":\n",
    "                file.write(\"another one bites the dust\\n\")"
   ]
  },
  {
   "cell_type": "code",
   "execution_count": null,
   "metadata": {},
   "outputs": [],
   "source": [
    "from os import remove\n",
    "remove(\"test.txt\")"
   ]
  },
  {
   "cell_type": "markdown",
   "metadata": {},
   "source": [
    "## functions and scopes"
   ]
  },
  {
   "cell_type": "code",
   "execution_count": null,
   "metadata": {},
   "outputs": [],
   "source": [
    "def hello():\n",
    "    return \"world\"\n",
    "\n",
    "hello()"
   ]
  },
  {
   "cell_type": "code",
   "execution_count": null,
   "metadata": {},
   "outputs": [],
   "source": [
    "def m(a, b):\n",
    "    return 2*a + b\n",
    "\n",
    "m(1, 4)"
   ]
  },
  {
   "cell_type": "code",
   "execution_count": null,
   "metadata": {},
   "outputs": [],
   "source": [
    "# def m(a:int, b:int) -> int:\n",
    "#     return 0.1\n",
    "\n",
    "var = 10\n",
    "l = [0, 10]\n",
    "def add10thendouble(num:int) -> int:\n",
    "    num += 10\n",
    "    print(\"inside function num is : \", num, \" before being doubled\")\n",
    "    return num * 2\n",
    "\n",
    "print(\"result is: \", add10thendouble(var))\n",
    "print(\"l is now: \", l)"
   ]
  },
  {
   "cell_type": "code",
   "execution_count": null,
   "metadata": {},
   "outputs": [],
   "source": [
    "# num"
   ]
  },
  {
   "cell_type": "code",
   "execution_count": null,
   "metadata": {},
   "outputs": [],
   "source": [
    "def f(a, b):\n",
    "    a += 10\n",
    "    b = a /12\n",
    "    return a + b\n",
    "\n",
    "(lambda x : x + 1)(10)\n",
    "\n",
    "def printf(string:str, *args) -> None:\n",
    "    print(string)\n",
    "    for arg in args:\n",
    "        print(arg)\n"
   ]
  },
  {
   "cell_type": "code",
   "execution_count": null,
   "metadata": {},
   "outputs": [],
   "source": [
    "range(3)"
   ]
  },
  {
   "cell_type": "markdown",
   "metadata": {},
   "source": [
    "### higher order functions\n",
    "\n",
    "functions are just like variables, they can be passed around as arguments of other functions"
   ]
  },
  {
   "cell_type": "code",
   "execution_count": null,
   "metadata": {},
   "outputs": [],
   "source": [
    "list(map(add10thendouble, [10, 20, 30]))"
   ]
  },
  {
   "cell_type": "code",
   "execution_count": null,
   "metadata": {},
   "outputs": [],
   "source": [
    "# you can define anonymous functions\n",
    "mapping = list(map(lambda x: x.upper(), [\"hi\", \"hoih\", \"fwoiji\"]))\n",
    "\n",
    "def mapy(strings):\n",
    "    out = []\n",
    "    for string in strings:\n",
    "        out.append(string.upper())\n",
    "    return out\n",
    "\n",
    "mappy2 = mapy([\"hi\", \"iuofwhe\", \"fewifo\"])\n",
    "\n",
    "mapping, mappy2"
   ]
  },
  {
   "cell_type": "code",
   "execution_count": null,
   "metadata": {},
   "outputs": [],
   "source": [
    "list(map(lambda x: x + 1, range(10)))"
   ]
  },
  {
   "cell_type": "markdown",
   "metadata": {},
   "source": [
    "### a note about generators"
   ]
  },
  {
   "cell_type": "code",
   "execution_count": null,
   "metadata": {},
   "outputs": [],
   "source": [
    "from random import randint\n",
    "\n",
    "nums = [randint(0, 1000) for n in range(10_000_000)] # about 400 MB"
   ]
  },
  {
   "cell_type": "code",
   "execution_count": null,
   "metadata": {},
   "outputs": [],
   "source": [
    "%%timeit\n",
    "map(lambda x: x + 1, nums)"
   ]
  },
  {
   "cell_type": "code",
   "execution_count": null,
   "metadata": {},
   "outputs": [],
   "source": [
    "for i in map(lambda x: x+ 1, nums[:10]):\n",
    "    print(i, end=\" \")"
   ]
  },
  {
   "cell_type": "code",
   "execution_count": null,
   "metadata": {},
   "outputs": [],
   "source": [
    "%%timeit\n",
    "[item+1 for item in nums] # this doubles the memory during execution as we create another huge list"
   ]
  },
  {
   "cell_type": "code",
   "execution_count": null,
   "metadata": {},
   "outputs": [],
   "source": [
    "%%timeit\n",
    "for item in nums:\n",
    "    item + 1"
   ]
  },
  {
   "cell_type": "code",
   "execution_count": null,
   "metadata": {},
   "outputs": [],
   "source": [
    "# writing our own generator\n",
    "def infinity():\n",
    "    count = 0\n",
    "    while True:\n",
    "        count += 1\n",
    "        yield count"
   ]
  },
  {
   "cell_type": "code",
   "execution_count": null,
   "metadata": {},
   "outputs": [],
   "source": [
    "infinity()"
   ]
  },
  {
   "cell_type": "code",
   "execution_count": null,
   "metadata": {},
   "outputs": [],
   "source": [
    "for i in infinity():\n",
    "    if i % 100000 == 0:\n",
    "        print(i, end=' ')\n",
    "    if i > 1000000:\n",
    "        break"
   ]
  },
  {
   "cell_type": "code",
   "execution_count": null,
   "metadata": {},
   "outputs": [],
   "source": [
    "from typing import TypeVar, Callable, Iterable, Iterator, Any\n",
    "T = TypeVar(\"T\")\n",
    "\n",
    "# an iterator is an object you can iterate over but cannot index\n",
    "# iterable is an indexable object that you can iterate over\n",
    "# a callable an object you can call using the () syntax\n",
    "# typevar T is to indicate that the return type of the function passed is the type returned by our mapfunc function\n",
    "def mapfunc(function: Callable[[Any], T], arguments:Iterable) -> Iterator[T]:\n",
    "    for argument in arguments:\n",
    "        yield function(argument)"
   ]
  },
  {
   "cell_type": "code",
   "execution_count": null,
   "metadata": {},
   "outputs": [],
   "source": [
    "print(list(map(lambda x: x+1, [1,2,3])))\n",
    "list(mapfunc(lambda x: x+ 1, [1,2,3]))"
   ]
  },
  {
   "cell_type": "code",
   "execution_count": null,
   "metadata": {},
   "outputs": [],
   "source": [
    "def apply(func, items):\n",
    "    return [func(item) for item in items]"
   ]
  },
  {
   "cell_type": "code",
   "execution_count": null,
   "metadata": {},
   "outputs": [],
   "source": [
    "import math\n",
    "apply(math.exp, [10, 100, 101])"
   ]
  },
  {
   "cell_type": "code",
   "execution_count": null,
   "metadata": {},
   "outputs": [],
   "source": []
  }
 ],
 "metadata": {
  "interpreter": {
   "hash": "68376282b2a9d375bea26456f4b7cb59a82756d8cc7f06e19e80720e7f156c3f"
  },
  "kernelspec": {
   "display_name": "Python 3.10.0 64-bit ('venv': venv)",
   "language": "python",
   "name": "python3"
  },
  "language_info": {
   "codemirror_mode": {
    "name": "ipython",
    "version": 3
   },
   "file_extension": ".py",
   "mimetype": "text/x-python",
   "name": "python",
   "nbconvert_exporter": "python",
   "pygments_lexer": "ipython3",
   "version": "3.10.0"
  },
  "orig_nbformat": 4
 },
 "nbformat": 4,
 "nbformat_minor": 2
}
