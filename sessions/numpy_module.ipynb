{
 "cells": [
  {
   "cell_type": "markdown",
   "metadata": {},
   "source": [
    "# Numpy => The python numerical library\n",
    "\n",
    "numpy array => basically the main datastructure of numpy\n",
    "\n",
    "originally used for a collection of scientific libraries (scipy)\n",
    "\n",
    "it comes with lots of functionalities => the api is huge"
   ]
  },
  {
   "cell_type": "code",
   "execution_count": null,
   "metadata": {},
   "outputs": [],
   "source": [
    "from __future__ import annotations\n",
    "import numpy as np\n",
    "from random import randint\n",
    "\n",
    "a = [randint(0, 1000) for _ in range(100_000)]\n",
    "b = [randint(0, 1000) for _ in range(100_000)]\n",
    "\n",
    "# from solutions import *  # this is bad pratice do not do this unless you want to hide stuff"
   ]
  },
  {
   "cell_type": "code",
   "execution_count": null,
   "metadata": {},
   "outputs": [],
   "source": [
    "%%timeit\n",
    "c = [i+j for i,j in zip(a, b)]"
   ]
  },
  {
   "cell_type": "code",
   "execution_count": null,
   "metadata": {},
   "outputs": [],
   "source": [
    "l = [0, 4, 6]\n",
    "k = [1, 6, 10, 5]\n",
    "\n",
    "for K, L in zip(k[1:], l):\n",
    "    print(K + L)\n",
    "\n",
    "k[1:]"
   ]
  },
  {
   "cell_type": "code",
   "execution_count": null,
   "metadata": {},
   "outputs": [],
   "source": [
    "a = np.random.randint(low=0, high=1000, size=(10, 10))\n",
    "b = np.random.randint(low=0, high=1000, size=(10, 10))"
   ]
  },
  {
   "cell_type": "code",
   "execution_count": null,
   "metadata": {},
   "outputs": [],
   "source": [
    "np.uint8(-2)"
   ]
  },
  {
   "cell_type": "code",
   "execution_count": null,
   "metadata": {},
   "outputs": [],
   "source": [
    "%%timeit\n",
    "c = a + b"
   ]
  },
  {
   "cell_type": "markdown",
   "metadata": {},
   "source": [
    "### Implement a function to read the data from rain.csv"
   ]
  },
  {
   "cell_type": "code",
   "execution_count": null,
   "metadata": {},
   "outputs": [],
   "source": [
    "def read_rain_prcp() -> list[float]: # this is a typing annotation super usefull for clarity\n",
    "    # the rain file path is ../data/rain.csv\n",
    "    # read the second column in the rain file\n",
    "    # use string manipulation, indexing, type conversion in some loop to get the data\n",
    "    with open(\"../data/rain.csv\", \"r\") as rain_file:\n",
    "        lines = rain_file.read().split(\"\\n\")\n",
    "    return [float(line.split(\",\")[1]) if \"NA\" not in line else 0 for line in lines[1:] ]\n"
   ]
  },
  {
   "cell_type": "code",
   "execution_count": null,
   "metadata": {},
   "outputs": [],
   "source": [
    "prcp = read_rain_prcp()"
   ]
  },
  {
   "cell_type": "code",
   "execution_count": null,
   "metadata": {},
   "outputs": [],
   "source": [
    "#assert all(prcp == solution for prcp, solution in zip(read_rain_prcp(),read_rain_prcp_sol()))\n",
    "prcp = read_rain_prcp()\n",
    "prcp[:5]"
   ]
  },
  {
   "cell_type": "markdown",
   "metadata": {},
   "source": [
    "### Implement a function to extract the average precipitation for all the data we got from the file"
   ]
  },
  {
   "cell_type": "code",
   "execution_count": null,
   "metadata": {},
   "outputs": [],
   "source": [
    "def mean_py(nums: list[float]) -> float:\n",
    "    # use builtins inside this function\n",
    "    # sum , len\n",
    "    m = sum(nums) / len(nums)\n",
    "    return m\n",
    "\n",
    "def naive_mean(nums: list[float]) -> float:\n",
    "    # only use basic language constructs like loops and additions, divisions\n",
    "    total = 0\n",
    "    counter = 0\n",
    "    for num in nums:\n",
    "        total += num\n",
    "        counter += 1\n",
    "    return total / counter\n",
    "\n",
    "mean_py(prcp) == naive_mean(prcp)\n"
   ]
  },
  {
   "cell_type": "code",
   "execution_count": null,
   "metadata": {},
   "outputs": [],
   "source": [
    "%%timeit\n",
    "mean_py(prcp)"
   ]
  },
  {
   "cell_type": "code",
   "execution_count": null,
   "metadata": {},
   "outputs": [],
   "source": [
    "%%timeit\n",
    "naive_mean(prcp)"
   ]
  },
  {
   "cell_type": "code",
   "execution_count": null,
   "metadata": {},
   "outputs": [],
   "source": [
    "from statistics import mean"
   ]
  },
  {
   "cell_type": "code",
   "execution_count": null,
   "metadata": {},
   "outputs": [],
   "source": [
    "%%timeit\n",
    "mean(prcp)"
   ]
  },
  {
   "cell_type": "code",
   "execution_count": null,
   "metadata": {},
   "outputs": [],
   "source": [
    "import numpy as np\n",
    "arr = np.array(prcp)"
   ]
  },
  {
   "cell_type": "code",
   "execution_count": null,
   "metadata": {},
   "outputs": [],
   "source": [
    "arr.dtype"
   ]
  },
  {
   "cell_type": "code",
   "execution_count": null,
   "metadata": {},
   "outputs": [],
   "source": [
    "%%timeit\n",
    "np.mean(arr)"
   ]
  },
  {
   "cell_type": "code",
   "execution_count": null,
   "metadata": {},
   "outputs": [],
   "source": [
    "%%timeit\n",
    "np.mean(prcp)"
   ]
  },
  {
   "cell_type": "code",
   "execution_count": null,
   "metadata": {},
   "outputs": [],
   "source": [
    "from dis import dis\n",
    "dis(mean_py)"
   ]
  },
  {
   "cell_type": "code",
   "execution_count": null,
   "metadata": {},
   "outputs": [],
   "source": [
    "dis(mean_py)"
   ]
  },
  {
   "cell_type": "markdown",
   "metadata": {},
   "source": [
    "## Numpy\n",
    "\n",
    "    - what it do\n",
    "    - how it be\n"
   ]
  },
  {
   "cell_type": "code",
   "execution_count": null,
   "metadata": {},
   "outputs": [],
   "source": [
    "arr = np.array([i for i in range(25)], dtype=np.uint8)"
   ]
  },
  {
   "cell_type": "code",
   "execution_count": null,
   "metadata": {},
   "outputs": [],
   "source": [
    "print(arr.shape)\n",
    "print(arr.ndim)\n",
    "print(arr.sum())\n",
    "print(arr.dtype)"
   ]
  },
  {
   "cell_type": "code",
   "execution_count": null,
   "metadata": {},
   "outputs": [],
   "source": [
    "arr.mean()"
   ]
  },
  {
   "cell_type": "code",
   "execution_count": null,
   "metadata": {},
   "outputs": [],
   "source": [
    "import numpy as np\n",
    "\n",
    "\n",
    "a = np.array([1, 10.5])\n",
    "a.dtype"
   ]
  },
  {
   "cell_type": "code",
   "execution_count": null,
   "metadata": {},
   "outputs": [],
   "source": [
    "print(np.random)\n",
    "print(np.linalg)\n",
    "np.max, np.sum, np.where, np.min, np.add, np.multiply, np.cos, np.arange, np.linspace\n"
   ]
  },
  {
   "cell_type": "markdown",
   "metadata": {},
   "source": [
    "### Types ? How does that work inside a python flexible environment ?"
   ]
  },
  {
   "cell_type": "code",
   "execution_count": null,
   "metadata": {},
   "outputs": [],
   "source": [
    "np.linspace(1,10,3)"
   ]
  },
  {
   "cell_type": "code",
   "execution_count": null,
   "metadata": {},
   "outputs": [],
   "source": [
    "arr = np.array(prcp, dtype=np.float16)"
   ]
  },
  {
   "cell_type": "code",
   "execution_count": null,
   "metadata": {},
   "outputs": [],
   "source": [
    "arr.mean()\n",
    "arr.std()\n"
   ]
  },
  {
   "cell_type": "code",
   "execution_count": null,
   "metadata": {},
   "outputs": [],
   "source": [
    "# watchout for overflows / wrap around\n",
    "np.uint8(300)"
   ]
  },
  {
   "cell_type": "markdown",
   "metadata": {},
   "source": [
    "### Slicing\n",
    "\n",
    "*Just like many other iterables, arrays support complex indexing*\n",
    "\n",
    "```arr[0, 0]``` to get the first element in a 2d array"
   ]
  },
  {
   "cell_type": "code",
   "execution_count": null,
   "metadata": {},
   "outputs": [],
   "source": [
    "arr[::-1]\n",
    "\"hello world\"[::-1]"
   ]
  },
  {
   "cell_type": "code",
   "execution_count": null,
   "metadata": {},
   "outputs": [],
   "source": [
    "from matplotlib import image\n",
    "import matplotlib.pyplot as plt\n",
    "\n",
    "koala :np.ndarray = image.imread(\"../data/koala.jpeg\")\n",
    "\n",
    "plt.imshow(koala)\n",
    "plt.show()"
   ]
  },
  {
   "cell_type": "code",
   "execution_count": null,
   "metadata": {},
   "outputs": [],
   "source": [
    "koala.shape"
   ]
  },
  {
   "cell_type": "code",
   "execution_count": null,
   "metadata": {},
   "outputs": [],
   "source": [
    "plt.imshow(koala[:koala.shape[0]//2,:koala.shape[1]//2, :])\n",
    "plt.show()"
   ]
  },
  {
   "cell_type": "code",
   "execution_count": null,
   "metadata": {},
   "outputs": [],
   "source": [
    "np.array(range(10))[:2]"
   ]
  },
  {
   "cell_type": "code",
   "execution_count": null,
   "metadata": {},
   "outputs": [],
   "source": [
    "plt.imshow(koala[300:, 400:,:]);plt.show()"
   ]
  },
  {
   "cell_type": "code",
   "execution_count": null,
   "metadata": {},
   "outputs": [],
   "source": [
    "koala.dtype"
   ]
  },
  {
   "cell_type": "code",
   "execution_count": null,
   "metadata": {},
   "outputs": [],
   "source": [
    "plt.imshow(np.mean(koala, axis=2))"
   ]
  },
  {
   "cell_type": "markdown",
   "metadata": {},
   "source": [
    "### Implement a function to zoom on the lower right quarter of the image "
   ]
  },
  {
   "cell_type": "code",
   "execution_count": null,
   "metadata": {},
   "outputs": [],
   "source": [
    "def zoom(image: np.ndarray) -> np.ndarray:\n",
    "    \"\"\"shows lower right quarter, returns sliced matrix\"\"\"\n",
    "    shape_x = image.shape[0] // 2\n",
    "    shape_y = image.shape[1] // 2\n",
    "\n",
    "    focus:np.ndarray = image[shape_x:,shape_y:]\n",
    "    return focus\n",
    "\n",
    "sliced = zoom(koala)"
   ]
  },
  {
   "cell_type": "code",
   "execution_count": null,
   "metadata": {},
   "outputs": [],
   "source": [
    "plt.imshow(sliced)\n",
    "plt.show()"
   ]
  },
  {
   "cell_type": "markdown",
   "metadata": {},
   "source": [
    "### Create a random noise matrix with the same shape as the koala matrix, max value of each item should be 70\n",
    "\n",
    "    - show the result of the image after adding the random noise\n",
    "    - show the result of the image after substracting the random noise"
   ]
  },
  {
   "cell_type": "code",
   "execution_count": null,
   "metadata": {},
   "outputs": [],
   "source": [
    "noise = np.random.randint(low=0, high=30, size=koala.shape, dtype=np.uint8)"
   ]
  },
  {
   "cell_type": "code",
   "execution_count": null,
   "metadata": {},
   "outputs": [],
   "source": [
    "noise.shape\n",
    "noise.dtype"
   ]
  },
  {
   "cell_type": "code",
   "execution_count": null,
   "metadata": {},
   "outputs": [],
   "source": [
    "plt.imshow(noise - koala)"
   ]
  },
  {
   "cell_type": "code",
   "execution_count": null,
   "metadata": {},
   "outputs": [],
   "source": [
    "plt.imshow(noise + koala)"
   ]
  },
  {
   "cell_type": "markdown",
   "metadata": {},
   "source": [
    "### polarizing\n",
    "\n",
    "select the pixels that are:\n",
    "\n",
    "    - too bright (sum of their values > 255 * 0.8 * 3): set them to white\n",
    "    - too dark (sum of their values < 255 * 0.2 * 3): set them to black"
   ]
  },
  {
   "cell_type": "code",
   "execution_count": null,
   "metadata": {},
   "outputs": [],
   "source": [
    "plt.imshow(koala)"
   ]
  },
  {
   "cell_type": "code",
   "execution_count": null,
   "metadata": {},
   "outputs": [],
   "source": [
    "koala[np.sum(koala, axis=2) > 255 * 0.8 * 3] = (255, 255, 255)\n",
    "koala[np.sum(koala, axis=2) < 255 * 0.2 * 3] = (0, 0, 0)"
   ]
  },
  {
   "cell_type": "code",
   "execution_count": null,
   "metadata": {},
   "outputs": [],
   "source": [
    "koala.shape"
   ]
  },
  {
   "cell_type": "code",
   "execution_count": null,
   "metadata": {},
   "outputs": [],
   "source": [
    "np.sum(koala, axis=0, dtype=np.uint8).shape"
   ]
  },
  {
   "cell_type": "code",
   "execution_count": null,
   "metadata": {},
   "outputs": [],
   "source": [
    "k = koala.copy()\n",
    "k[np.sum(koala, axis=2) > 270] = 255\n",
    "plt.imshow(k)\n",
    "plt.show()"
   ]
  },
  {
   "cell_type": "code",
   "execution_count": null,
   "metadata": {},
   "outputs": [],
   "source": [
    "koala[np.sum(koala, axis=2) > 270]\n",
    "k[np.sum(koala, axis=2) > 270] = 255"
   ]
  },
  {
   "cell_type": "code",
   "execution_count": null,
   "metadata": {},
   "outputs": [],
   "source": [
    "plt.imshow(koala)\n",
    "plt.show()"
   ]
  },
  {
   "cell_type": "code",
   "execution_count": null,
   "metadata": {},
   "outputs": [],
   "source": [
    "def polarize(image:np.ndarray)-> np.ndarray:\n",
    "    \"\"\"polarize the image\"\"\"\n",
    "    altered = image.copy()\n",
    "    altered[np.sum(image, axis=2) > 255*0.8*3] = 255\n",
    "    altered[np.sum(image, axis=2) < 255*0.2*3] = 0\n",
    "    return altered\n",
    "\n",
    "polarized = polarize(koala)\n",
    "plt.imshow(polarized)\n",
    "plt.show()"
   ]
  },
  {
   "cell_type": "code",
   "execution_count": null,
   "metadata": {},
   "outputs": [],
   "source": [
    "k[:, :, 1] = 0\n",
    "k[:, :, 2] = 0"
   ]
  },
  {
   "cell_type": "code",
   "execution_count": null,
   "metadata": {},
   "outputs": [],
   "source": [
    "plt.imshow(k)"
   ]
  },
  {
   "cell_type": "markdown",
   "metadata": {},
   "source": [
    "### blue koala and other cute things\n",
    "\n",
    "Set all the RGB channels other than blue to be black this way we'll have an image with only blue pixels"
   ]
  },
  {
   "cell_type": "code",
   "execution_count": null,
   "metadata": {},
   "outputs": [],
   "source": [
    "def blue(image: np.ndarray) -> np.ndarray:\n",
    "    \"\"\"blacks out Red and Green channels of image\"\"\"\n",
    "    other = image.copy()\n",
    "    other[:,:,0] = 0\n",
    "    other[:,:,1] = 0\n",
    "    return other\n",
    "\n",
    "b_k = blue(koala)\n",
    "plt.imshow(b_k)\n",
    "plt.show()"
   ]
  },
  {
   "cell_type": "code",
   "execution_count": null,
   "metadata": {},
   "outputs": [],
   "source": [
    "def negative(image:np.ndarray)->np.ndarray:\n",
    "    \"\"\"output the negative of the image\"\"\"\n",
    "    return -image\n",
    "\n",
    "neg = negative(koala)\n",
    "plt.imshow(neg)\n",
    "plt.show()"
   ]
  },
  {
   "cell_type": "code",
   "execution_count": null,
   "metadata": {},
   "outputs": [],
   "source": [
    "def blur(image:np.ndarray, steps:int) -> np.ndarray:\n",
    "    \"\"\" blur the image by setting pixels to a local average value\n",
    "\n",
    "    we first divide the image into N pieces and average out the color of each piece\n",
    "    we then set those pieces to the average color\n",
    "    \"\"\"\n",
    "    x_shape = image.shape[0]\n",
    "    x_step = x_shape // steps\n",
    "    y_shape = image.shape[1]\n",
    "    y_step = y_shape // steps\n",
    "\n",
    "    copy = image.copy()\n",
    "    for i in range(0, x_shape, x_step):\n",
    "        for j in range(0, y_shape, y_step):\n",
    "            sub = image[i:i+x_step, j:j+ y_step,:]\n",
    "            copy[i:i+x_step, j:j+ y_step,:] = sub.mean(axis=0).mean(axis=0)\n",
    "    return copy"
   ]
  },
  {
   "cell_type": "code",
   "execution_count": null,
   "metadata": {},
   "outputs": [],
   "source": [
    "plt.imshow(blur(koala, 100));plt.show()"
   ]
  },
  {
   "cell_type": "markdown",
   "metadata": {},
   "source": [
    "## Back to the RAIN"
   ]
  },
  {
   "cell_type": "code",
   "execution_count": null,
   "metadata": {},
   "outputs": [],
   "source": [
    "rain = np.array(read_rain_prcp(), dtype=np.float16)\n",
    "\n",
    "def read_temp_data() -> tuple[np.ndarray,np.ndarray]:\n",
    "    with open(\"../data/rain.csv\", \"r\") as file:\n",
    "        max_temp = []\n",
    "        min_temp = []\n",
    "        lines = file.read().split(\"\\n\")[1:]\n",
    "        for line in lines:\n",
    "            _, _, max_t, min_t, _ = line.split(\",\")\n",
    "            max_temp.append(max_t)\n",
    "            min_temp.append(min_t)\n",
    "\n",
    "        max_temp = np.array(max_temp, dtype=np.uint8)\n",
    "        min_temp = np.array(min_temp, dtype=np.uint8)\n",
    "    return max_temp, min_temp\n",
    "\n",
    "max_t, min_t = read_temp_data()"
   ]
  },
  {
   "cell_type": "markdown",
   "metadata": {},
   "source": [
    "#### Compute the average temperature for each day"
   ]
  },
  {
   "cell_type": "code",
   "execution_count": null,
   "metadata": {},
   "outputs": [],
   "source": [
    "avg_tmp = np.vstack([max_t, min_t]).mean(axis=0)\n",
    "avg_tmp"
   ]
  },
  {
   "cell_type": "markdown",
   "metadata": {},
   "source": [
    "#### Compute the correlation coefficient between\n",
    "\n",
    "    - max_t & min_t\n",
    "    - rain & max_t\n",
    "    - rain & min_t\n",
    "    - rain & max_t - min_t\n"
   ]
  },
  {
   "cell_type": "code",
   "execution_count": null,
   "metadata": {},
   "outputs": [],
   "source": [
    "print(np.corrcoef(max_t, min_t), end=\"\\n\"+\"-\"*10+\"\\n\")\n",
    "print(np.corrcoef(rain, max_t), end=\"\\n\"+\"-\"*10+\"\\n\")\n",
    "print(np.corrcoef(rain, min_t), end=\"\\n\"+\"-\"*10+\"\\n\")\n",
    "print(np.corrcoef(rain, max_t-min_t), end=\"\\n\"+\"-\"*10+\"\\n\")"
   ]
  },
  {
   "cell_type": "markdown",
   "metadata": {},
   "source": [
    "#### Compute the moving rain fall average"
   ]
  },
  {
   "cell_type": "code",
   "execution_count": null,
   "metadata": {},
   "outputs": [],
   "source": [
    "def plot_rain(data: np.ndarray) -> None:\n",
    "    plt.figure(figsize=(10, 5))\n",
    "    plt.title(\"Rain Fall\")\n",
    "    plt.xlabel(\"date\")\n",
    "    plt.ylabel(\"ml / m2\")\n",
    "    plt.plot(data)\n",
    "    plt.show()\n",
    "\n",
    "plot_rain(rain)"
   ]
  },
  {
   "cell_type": "code",
   "execution_count": null,
   "metadata": {},
   "outputs": [],
   "source": [
    "def moving_avg(array: np.ndarray, window:int) -> np.ndarray:\n",
    "    \"\"\" create a new array with the same size as ass given one\n",
    "        iterate over the old one and fill the new one with the average of the old array window going forward\n",
    "        hint: use indexing take advantage of the fact that numpy does not error out when slicing over bigger indices\n",
    "        preallocate with zeros_like, ones_like\n",
    "    \"\"\"\n",
    "    arr = np.ones_like(array)\n",
    "    for idx, _ in enumerate(array):\n",
    "        arr[idx] = array[idx:idx+window].mean()\n",
    "    return arr\n",
    "\n",
    "mva = moving_avg(rain, 365)"
   ]
  },
  {
   "cell_type": "code",
   "execution_count": null,
   "metadata": {},
   "outputs": [],
   "source": [
    "plot_rain(mva)"
   ]
  },
  {
   "cell_type": "markdown",
   "metadata": {},
   "source": [
    "Some more maths basics are"
   ]
  },
  {
   "cell_type": "code",
   "execution_count": null,
   "metadata": {},
   "outputs": [],
   "source": [
    "rain.T"
   ]
  },
  {
   "cell_type": "code",
   "execution_count": null,
   "metadata": {},
   "outputs": [],
   "source": [
    "rain.dot(rain.T)"
   ]
  },
  {
   "cell_type": "code",
   "execution_count": null,
   "metadata": {},
   "outputs": [],
   "source": [
    "rain.std()"
   ]
  }
 ],
 "metadata": {
  "interpreter": {
   "hash": "76f5d1897a2ea8cbdeb2e36f2c2c360c255c5a406b6a3b63b12ac714435507a8"
  },
  "kernelspec": {
   "display_name": "Python 3.9.6 64-bit ('venv': venv)",
   "language": "python",
   "name": "python3"
  },
  "language_info": {
   "codemirror_mode": {
    "name": "ipython",
    "version": 3
   },
   "file_extension": ".py",
   "mimetype": "text/x-python",
   "name": "python",
   "nbconvert_exporter": "python",
   "pygments_lexer": "ipython3",
   "version": "3.10.0"
  },
  "orig_nbformat": 4
 },
 "nbformat": 4,
 "nbformat_minor": 2
}
