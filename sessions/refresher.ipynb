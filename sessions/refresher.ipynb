{
 "cells": [
  {
   "cell_type": "code",
   "execution_count": null,
   "metadata": {},
   "outputs": [],
   "source": [
    "# additional challenge\n",
    "# modify a string\n",
    "\n",
    "greeting = \"hello world!\"\n",
    "# modify greeting so the space between hello and world becomes a coma => \"hello,world!\"\n",
    "greeting[5] = \",\" # breaks\n",
    "greeting = greeting.replace(\" \", \",\") # works !"
   ]
  }
 ],
 "metadata": {
  "language_info": {
   "name": "python"
  },
  "orig_nbformat": 4
 },
 "nbformat": 4,
 "nbformat_minor": 2
}
